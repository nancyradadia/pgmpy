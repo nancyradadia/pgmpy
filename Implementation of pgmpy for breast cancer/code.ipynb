{
  "nbformat": 4,
  "nbformat_minor": 0,
  "metadata": {
    "colab": {
      "name": "PGM_ASS.ipynb",
      "provenance": [],
      "collapsed_sections": [],
      "toc_visible": true
    },
    "kernelspec": {
      "name": "python3",
      "display_name": "Python 3"
    }
  },
  "cells": [
    {
      "cell_type": "markdown",
      "metadata": {
        "id": "kUheuIGc2DYU"
      },
      "source": [
        "# Assignment 01"
      ]
    },
    {
      "cell_type": "markdown",
      "metadata": {
        "id": "QvaRfsQjC8pI"
      },
      "source": [
        "### Breast Cancer Diagnostics with Bayesian Networks"
      ]
    },
    {
      "cell_type": "markdown",
      "metadata": {
        "id": "hCMx2B2L2Jf5"
      },
      "source": [
        "     Attribute                    Code   Domain     \n",
        "   -------------------------------------------------\n",
        "    Sample code number            SCN    id number\n",
        "    Clump Thickness               CT     1 - 10\n",
        "    Uniformity of Cell Size       UCSI   1 - 10\n",
        "    Uniformity of Cell Shape      UCSH   1 - 10\n",
        "    Marginal Adhesion             MA     1 - 10\n",
        "    Single Epithelial Cell Size   SECS   1 - 10\n",
        "    Bare Nuclei                   BN     1 - 10\n",
        "    Bland Chromatin               BC     1 - 10\n",
        "    Normal Nucleoli               NN     1 - 10\n",
        "    Mitoses                       M      1 - 10\n",
        "    Class                         C      (2 for benign, 4 for malignant)"
      ]
    },
    {
      "cell_type": "code",
      "metadata": {
        "id": "ffq_MhwU2JKb"
      },
      "source": [
        "!pip install pgmpy\n",
        "import numpy as np\n",
        "import pandas as pd\n",
        "import matplotlib.pyplot as plt\n",
        "from pgmpy.models import BayesianModel\n",
        "from pgmpy.estimators import MaximumLikelihoodEstimator\n",
        "from pgmpy.inference import VariableElimination\n",
        "import networkx as nx"
      ],
      "execution_count": null,
      "outputs": []
    },
    {
      "cell_type": "code",
      "metadata": {
        "id": "NKhdRx023D-t"
      },
      "source": [
        "from google.colab import files\n",
        "uploaded = files.upload()"
      ],
      "execution_count": null,
      "outputs": []
    },
    {
      "cell_type": "code",
      "metadata": {
        "id": "VrFoa7IU3SHF",
        "outputId": "e9aa1e90-7517-482b-e0e0-3ce32190a554",
        "colab": {
          "base_uri": "https://localhost:8080/",
          "height": 204
        }
      },
      "source": [
        "data = pd.read_csv('breast-cancer.csv')\n",
        "data.head()"
      ],
      "execution_count": 3,
      "outputs": [
        {
          "output_type": "execute_result",
          "data": {
            "text/html": [
              "<div>\n",
              "<style scoped>\n",
              "    .dataframe tbody tr th:only-of-type {\n",
              "        vertical-align: middle;\n",
              "    }\n",
              "\n",
              "    .dataframe tbody tr th {\n",
              "        vertical-align: top;\n",
              "    }\n",
              "\n",
              "    .dataframe thead th {\n",
              "        text-align: right;\n",
              "    }\n",
              "</style>\n",
              "<table border=\"1\" class=\"dataframe\">\n",
              "  <thead>\n",
              "    <tr style=\"text-align: right;\">\n",
              "      <th></th>\n",
              "      <th>SCN</th>\n",
              "      <th>CT</th>\n",
              "      <th>UCSI</th>\n",
              "      <th>UCSH</th>\n",
              "      <th>MA</th>\n",
              "      <th>SECS</th>\n",
              "      <th>BN</th>\n",
              "      <th>BC</th>\n",
              "      <th>NN</th>\n",
              "      <th>M</th>\n",
              "      <th>C</th>\n",
              "    </tr>\n",
              "  </thead>\n",
              "  <tbody>\n",
              "    <tr>\n",
              "      <th>0</th>\n",
              "      <td>1000025</td>\n",
              "      <td>5</td>\n",
              "      <td>1</td>\n",
              "      <td>1</td>\n",
              "      <td>1</td>\n",
              "      <td>2</td>\n",
              "      <td>1</td>\n",
              "      <td>3</td>\n",
              "      <td>1</td>\n",
              "      <td>1</td>\n",
              "      <td>2</td>\n",
              "    </tr>\n",
              "    <tr>\n",
              "      <th>1</th>\n",
              "      <td>1002945</td>\n",
              "      <td>5</td>\n",
              "      <td>4</td>\n",
              "      <td>4</td>\n",
              "      <td>5</td>\n",
              "      <td>7</td>\n",
              "      <td>10</td>\n",
              "      <td>3</td>\n",
              "      <td>2</td>\n",
              "      <td>1</td>\n",
              "      <td>2</td>\n",
              "    </tr>\n",
              "    <tr>\n",
              "      <th>2</th>\n",
              "      <td>1015425</td>\n",
              "      <td>3</td>\n",
              "      <td>1</td>\n",
              "      <td>1</td>\n",
              "      <td>1</td>\n",
              "      <td>2</td>\n",
              "      <td>2</td>\n",
              "      <td>3</td>\n",
              "      <td>1</td>\n",
              "      <td>1</td>\n",
              "      <td>2</td>\n",
              "    </tr>\n",
              "    <tr>\n",
              "      <th>3</th>\n",
              "      <td>1016277</td>\n",
              "      <td>6</td>\n",
              "      <td>8</td>\n",
              "      <td>8</td>\n",
              "      <td>1</td>\n",
              "      <td>3</td>\n",
              "      <td>4</td>\n",
              "      <td>3</td>\n",
              "      <td>7</td>\n",
              "      <td>1</td>\n",
              "      <td>2</td>\n",
              "    </tr>\n",
              "    <tr>\n",
              "      <th>4</th>\n",
              "      <td>1017023</td>\n",
              "      <td>4</td>\n",
              "      <td>1</td>\n",
              "      <td>1</td>\n",
              "      <td>3</td>\n",
              "      <td>2</td>\n",
              "      <td>1</td>\n",
              "      <td>3</td>\n",
              "      <td>1</td>\n",
              "      <td>1</td>\n",
              "      <td>2</td>\n",
              "    </tr>\n",
              "  </tbody>\n",
              "</table>\n",
              "</div>"
            ],
            "text/plain": [
              "       SCN  CT  UCSI  UCSH  MA  SECS  BN  BC  NN  M  C\n",
              "0  1000025   5     1     1   1     2   1   3   1  1  2\n",
              "1  1002945   5     4     4   5     7  10   3   2  1  2\n",
              "2  1015425   3     1     1   1     2   2   3   1  1  2\n",
              "3  1016277   6     8     8   1     3   4   3   7  1  2\n",
              "4  1017023   4     1     1   3     2   1   3   1  1  2"
            ]
          },
          "metadata": {
            "tags": []
          },
          "execution_count": 3
        }
      ]
    },
    {
      "cell_type": "code",
      "metadata": {
        "id": "cmHo1pEl4Pr5",
        "outputId": "90c3b612-4a1e-4ed6-d0fe-9d2e8da21c75",
        "colab": {
          "base_uri": "https://localhost:8080/",
          "height": 466
        }
      },
      "source": [
        "model = BayesianModel([('UCSI', 'C'), ('UCSI', 'UCSH'), ('NN', 'C'), ('C', 'UCSH'), ('C', 'BC'), ('UCSI', 'BC'), ('UCSI', 'MA'), ('UCSI', 'SECS'), ('C', 'M'), ('C', 'BN'), ('C', 'CT')])\n",
        "model.fit(data, estimator=MaximumLikelihoodEstimator)\n",
        "\n",
        "fid, ax = plt.subplots(figsize=(9,8))\n",
        "positions = {'CT':(1,6), 'UCSI':(6,3), 'UCSH':(4,5), 'MA':(8,6), 'SECS':(8,0),'BN':(0,3), 'BC':(4,7), 'NN':(4,1), 'M':(1,0), 'C':(2,3)}\n",
        "\n",
        "nx.draw(model, pos=positions, with_labels=True, node_size= 4000, font_size = 20, arrowsize=20, node_color='blue', ax=ax)"
      ],
      "execution_count": 4,
      "outputs": [
        {
          "output_type": "display_data",
          "data": {
            "image/png": "[encoded data removed]",
            "text/plain": [
              "<Figure size 648x576 with 1 Axes>"
            ]
          },
          "metadata": {
            "tags": []
          }
        }
      ]
    },
    {
      "cell_type": "code",
      "metadata": {
        "id": "JPrDL4-mDOxf"
      },
      "source": [
        "model.check_model()"
      ],
      "execution_count": null,
      "outputs": []
    },
    {
      "cell_type": "code",
      "metadata": {
        "id": "PD4ywfCEDvbz"
      },
      "source": [
        "model.get_cpds()"
      ],
      "execution_count": null,
      "outputs": []
    },
    {
      "cell_type": "code",
      "metadata": {
        "id": "g2LxuSrHD2b5"
      },
      "source": [
        "print(model.get_cpds('BN'))\n",
        "print(model.get_cpds('CT'))\n",
        "print(model.get_cpds('M'))\n",
        "print(model.get_cpds('C'))\n",
        "print(model.get_cpds('BC'))\n",
        "print(model.get_cpds('UCSH'))\n",
        "print(model.get_cpds('NN'))\n",
        "print(model.get_cpds('UCSI'))\n",
        "print(model.get_cpds('MA'))\n",
        "print(model.get_cpds('SECS'))"
      ],
      "execution_count": null,
      "outputs": []
    },
    {
      "cell_type": "markdown",
      "metadata": {
        "id": "eP6XmV4Id_om"
      },
      "source": [
        "#### Inference"
      ]
    },
    {
      "cell_type": "markdown",
      "metadata": {
        "id": "h82yaHz8eDNA"
      },
      "source": [
        "Query 1  -  Which class does patient belong if the Uniformity of Cell Size is 8 and Normal Nucleoli is 1 ?\n",
        "\n",
        "Query 2  -  What is the probable value of Uniformity of Cell Shape given that Class is Benign and Uniformity of Cell Size is 1 ?\n",
        "\n",
        "Query 3  -  What type of Bland Chormatin is observed in a malignant Class patient having Unif0rmity of Cell Size value to be 4 ? \n",
        "\n",
        "Query 4  -  Predict the Single Epithelial Cell Size of the for the sample given that it has Uniformity of Cell Size 1.\n",
        "\n",
        "Query 5  -  What can the most probable value of Mitosis if the patient has Class benign ?"
      ]
    },
    {
      "cell_type": "code",
      "metadata": {
        "id": "vFEiUzxPEMXY"
      },
      "source": [
        "inference = VariableElimination(model)\n",
        "\n",
        "query1 = inference.map_query(variables=['C'], evidence={'NN':1, 'UCSI': 8})\n",
        "print(query1)\n",
        "\n",
        "query2 = inference.map_query(variables=['UCSH'], evidence={'C':2, 'UCSI':1})\n",
        "print(query2)\n",
        "\n",
        "query3 = inference.map_query(variables=['BC'], evidence={'C':4, 'UCSI': 4})\n",
        "print(query3)\n",
        "\n",
        "query4 = inference.map_query(variables=['SECS'], evidence={'UCSI':1})\n",
        "print(query4)\n",
        "\n",
        "query5 = inference.map_query(variables=['M'], evidence={'C':2})\n",
        "print(query5)"
      ],
      "execution_count": null,
      "outputs": []
    },
    {
      "cell_type": "code",
      "metadata": {
        "id": "K4yPaoUYdoSb",
        "outputId": "2852c371-21b8-46a5-a795-fcfa085da328",
        "colab": {
          "base_uri": "https://localhost:8080/",
          "height": 111
        }
      },
      "source": [
        "infe = {'Query1': [[key for key in query1.keys()][0], [value for value in query1.values()][0]],\n",
        "        'Query2': [[key for key in query2.keys()][0], [value for value in query2.values()][0]],\n",
        "        'Query3': [[key for key in query3.keys()][0], [value for value in query3.values()][0]],\n",
        "        'Query4': [[key for key in query4.keys()][0], [value for value in query4.values()][0]],\n",
        "        'Query5': [[key for key in query5.keys()][0], [value for value in query5.values()][0]]}\n",
        "\n",
        "result = pd.DataFrame(infe)\n",
        "result.to_csv('output.csv', index=False)\n",
        "result"
      ],
      "execution_count": 9,
      "outputs": [
        {
          "output_type": "execute_result",
          "data": {
            "text/html": [
              "<div>\n",
              "<style scoped>\n",
              "    .dataframe tbody tr th:only-of-type {\n",
              "        vertical-align: middle;\n",
              "    }\n",
              "\n",
              "    .dataframe tbody tr th {\n",
              "        vertical-align: top;\n",
              "    }\n",
              "\n",
              "    .dataframe thead th {\n",
              "        text-align: right;\n",
              "    }\n",
              "</style>\n",
              "<table border=\"1\" class=\"dataframe\">\n",
              "  <thead>\n",
              "    <tr style=\"text-align: right;\">\n",
              "      <th></th>\n",
              "      <th>Query1</th>\n",
              "      <th>Query2</th>\n",
              "      <th>Query3</th>\n",
              "      <th>Query4</th>\n",
              "      <th>Query5</th>\n",
              "    </tr>\n",
              "  </thead>\n",
              "  <tbody>\n",
              "    <tr>\n",
              "      <th>0</th>\n",
              "      <td>C</td>\n",
              "      <td>UCSH</td>\n",
              "      <td>BC</td>\n",
              "      <td>SECS</td>\n",
              "      <td>M</td>\n",
              "    </tr>\n",
              "    <tr>\n",
              "      <th>1</th>\n",
              "      <td>4</td>\n",
              "      <td>1</td>\n",
              "      <td>4</td>\n",
              "      <td>2</td>\n",
              "      <td>1</td>\n",
              "    </tr>\n",
              "  </tbody>\n",
              "</table>\n",
              "</div>"
            ],
            "text/plain": [
              "  Query1 Query2 Query3 Query4 Query5\n",
              "0      C   UCSH     BC   SECS      M\n",
              "1      4      1      4      2      1"
            ]
          },
          "metadata": {
            "tags": []
          },
          "execution_count": 9
        }
      ]
    },
    {
      "cell_type": "markdown",
      "metadata": {
        "id": "NAOtnKVo3Hch"
      },
      "source": [
        "#### Derived Inference"
      ]
    },
    {
      "cell_type": "markdown",
      "metadata": {
        "id": "0UYqSk0U3PYt"
      },
      "source": [
        "Query 1 - The patient belong to malignant Class if the Uniformity of Cell Size is 8 and Normal Nucleoli is 1.\n",
        "\n",
        "Query 2 - The probable value of Uniformity of Cell Shape is 1 given that Class is Benign and Uniformity of Cell Size is 1.\n",
        "\n",
        "Query 3 - The level 4type of Bland Chormatin is observed in a malignant Class patient having Uniformity of Cell Size value to be 4.\n",
        "\n",
        "Query 4 - Predicted value of the Single Epithelial Cell Size of the for the sample given that it has Uniformity of Cell Size 1 is 2.\n",
        "\n",
        "Query 5 - The most probable value of Mitosis if the patient has Class benign is 1."
      ]
    },
    {
      "cell_type": "markdown",
      "metadata": {
        "id": "ewNGq8Od7cQo"
      },
      "source": [
        "# Assignment 02"
      ]
    },
    {
      "cell_type": "code",
      "metadata": {
        "id": "h--AVMaGSFnf"
      },
      "source": [
        "import numpy as np\n",
        "import pandas as pd\n",
        "from pgmpy.models import BayesianModel\n",
        "from pgmpy.estimators import BayesianEstimator\n",
        "from pgmpy.estimators import ExhaustiveSearch"
      ],
      "execution_count": 10,
      "outputs": []
    },
    {
      "cell_type": "code",
      "metadata": {
        "id": "YDPE9-FtSI6G",
        "outputId": "3e618f59-c080-4805-cf93-a9ad2146fc63",
        "colab": {
          "base_uri": "https://localhost:8080/",
          "height": 255
        }
      },
      "source": [
        "data.drop(['SCN'], axis=1, inplace=True)\n",
        "print(data)"
      ],
      "execution_count": 11,
      "outputs": [
        {
          "output_type": "stream",
          "text": [
            "     CT  UCSI  UCSH  MA  SECS  BN  BC  NN  M  C\n",
            "0     5     1     1   1     2   1   3   1  1  2\n",
            "1     5     4     4   5     7  10   3   2  1  2\n",
            "2     3     1     1   1     2   2   3   1  1  2\n",
            "3     6     8     8   1     3   4   3   7  1  2\n",
            "4     4     1     1   3     2   1   3   1  1  2\n",
            "..   ..   ...   ...  ..   ...  ..  ..  .. .. ..\n",
            "694   3     1     1   1     3   2   1   1  1  2\n",
            "695   2     1     1   1     2   1   1   1  1  2\n",
            "696   5    10    10   3     7   3   8  10  2  4\n",
            "697   4     8     6   4     3   4  10   6  1  4\n",
            "698   4     8     8   5     4   5  10   4  1  4\n",
            "\n",
            "[699 rows x 10 columns]\n"
          ],
          "name": "stdout"
        }
      ]
    },
    {
      "cell_type": "code",
      "metadata": {
        "id": "GyuGx73kUtle",
        "outputId": "c1bdeb65-1746-42db-da15-a643059617b8",
        "colab": {
          "base_uri": "https://localhost:8080/",
          "height": 187
        }
      },
      "source": [
        "model.fit(data, estimator=BayesianEstimator, prior_type=\"BDeu\")"
      ],
      "execution_count": 12,
      "outputs": [
        {
          "output_type": "stream",
          "text": [
            "WARNING:root:Replacing existing CPD for UCSI\n",
            "WARNING:root:Replacing existing CPD for C\n",
            "WARNING:root:Replacing existing CPD for UCSH\n",
            "WARNING:root:Replacing existing CPD for NN\n",
            "WARNING:root:Replacing existing CPD for BC\n",
            "WARNING:root:Replacing existing CPD for MA\n",
            "WARNING:root:Replacing existing CPD for SECS\n",
            "WARNING:root:Replacing existing CPD for M\n",
            "WARNING:root:Replacing existing CPD for BN\n",
            "WARNING:root:Replacing existing CPD for CT\n"
          ],
          "name": "stderr"
        }
      ]
    },
    {
      "cell_type": "code",
      "metadata": {
        "id": "9z4nXqsRUyr1",
        "outputId": "3476db44-321d-4545-9682-c8acb77b0d15",
        "colab": {
          "base_uri": "https://localhost:8080/",
          "height": 436
        }
      },
      "source": [
        "train_data = data[:500]\n",
        "predict_data= data[500:]\n",
        "\n",
        "model = BayesianModel([('UCSI', 'C'), ('UCSI', 'UCSH'), ('NN', 'C'), ('C', 'UCSH'), ('C', 'BC'), ('UCSI', 'BC'), ('UCSI', 'MA'), ('UCSI', 'SECS'), ('C', 'M'), ('C', 'BN'), ('C', 'CT')])\n",
        "model.fit(data)\n",
        "\n",
        "predict_data = predict_data.copy()\n",
        "predict_data.drop(['UCSI', 'BC'], axis=1, inplace=True)\n",
        "\n",
        "y_pred = model.predict(predict_data)\n",
        "y_pred"
      ],
      "execution_count": 68,
      "outputs": [
        {
          "output_type": "stream",
          "text": [
            "100%|██████████| 102/102 [00:04<00:00, 21.46it/s]\n"
          ],
          "name": "stderr"
        },
        {
          "output_type": "execute_result",
          "data": {
            "text/html": [
              "<div>\n",
              "<style scoped>\n",
              "    .dataframe tbody tr th:only-of-type {\n",
              "        vertical-align: middle;\n",
              "    }\n",
              "\n",
              "    .dataframe tbody tr th {\n",
              "        vertical-align: top;\n",
              "    }\n",
              "\n",
              "    .dataframe thead th {\n",
              "        text-align: right;\n",
              "    }\n",
              "</style>\n",
              "<table border=\"1\" class=\"dataframe\">\n",
              "  <thead>\n",
              "    <tr style=\"text-align: right;\">\n",
              "      <th></th>\n",
              "      <th>UCSI</th>\n",
              "      <th>BC</th>\n",
              "    </tr>\n",
              "  </thead>\n",
              "  <tbody>\n",
              "    <tr>\n",
              "      <th>0</th>\n",
              "      <td>1</td>\n",
              "      <td>2</td>\n",
              "    </tr>\n",
              "    <tr>\n",
              "      <th>1</th>\n",
              "      <td>1</td>\n",
              "      <td>2</td>\n",
              "    </tr>\n",
              "    <tr>\n",
              "      <th>2</th>\n",
              "      <td>1</td>\n",
              "      <td>2</td>\n",
              "    </tr>\n",
              "    <tr>\n",
              "      <th>3</th>\n",
              "      <td>1</td>\n",
              "      <td>2</td>\n",
              "    </tr>\n",
              "    <tr>\n",
              "      <th>4</th>\n",
              "      <td>1</td>\n",
              "      <td>2</td>\n",
              "    </tr>\n",
              "    <tr>\n",
              "      <th>...</th>\n",
              "      <td>...</td>\n",
              "      <td>...</td>\n",
              "    </tr>\n",
              "    <tr>\n",
              "      <th>194</th>\n",
              "      <td>1</td>\n",
              "      <td>2</td>\n",
              "    </tr>\n",
              "    <tr>\n",
              "      <th>195</th>\n",
              "      <td>1</td>\n",
              "      <td>2</td>\n",
              "    </tr>\n",
              "    <tr>\n",
              "      <th>196</th>\n",
              "      <td>10</td>\n",
              "      <td>7</td>\n",
              "    </tr>\n",
              "    <tr>\n",
              "      <th>197</th>\n",
              "      <td>5</td>\n",
              "      <td>7</td>\n",
              "    </tr>\n",
              "    <tr>\n",
              "      <th>198</th>\n",
              "      <td>8</td>\n",
              "      <td>7</td>\n",
              "    </tr>\n",
              "  </tbody>\n",
              "</table>\n",
              "<p>199 rows × 2 columns</p>\n",
              "</div>"
            ],
            "text/plain": [
              "     UCSI  BC\n",
              "0       1   2\n",
              "1       1   2\n",
              "2       1   2\n",
              "3       1   2\n",
              "4       1   2\n",
              "..    ...  ..\n",
              "194     1   2\n",
              "195     1   2\n",
              "196    10   7\n",
              "197     5   7\n",
              "198     8   7\n",
              "\n",
              "[199 rows x 2 columns]"
            ]
          },
          "metadata": {
            "tags": []
          },
          "execution_count": 68
        }
      ]
    },
    {
      "cell_type": "code",
      "metadata": {
        "id": "yAK1hAyNWUAg"
      },
      "source": [
        "y_pred = y_pred.to_numpy()\n",
        "predict_data = data[500:].to_numpy()"
      ],
      "execution_count": 69,
      "outputs": []
    },
    {
      "cell_type": "code",
      "metadata": {
        "id": "pxM4yH89Nu1L",
        "outputId": "35bec103-4fb2-4001-bcc2-21d2939828c4",
        "colab": {
          "base_uri": "https://localhost:8080/",
          "height": 68
        }
      },
      "source": [
        "UCSI=0\n",
        "BC=0\n",
        "\n",
        "for i in range(0,len(y_pred)):\n",
        "    if y_pred[i][0] == predict_data[i][1]:\n",
        "        UCSI += 1\n",
        "    if y_pred[i][1] == predict_data[i][6]:\n",
        "        BC += 1\n",
        "\n",
        "UCSI = (UCSI/len(predict_data))*100\n",
        "BC = (BC/len(predict_data))*100\n",
        "\n",
        "print(\"Accuracy of prediction : \")\n",
        "print(\"UCSI : \", round(UCSI,2), \"%\")\n",
        "print(\"BC : \", round(BC,2), \"%\")"
      ],
      "execution_count": 73,
      "outputs": [
        {
          "output_type": "stream",
          "text": [
            "Accuracy of prediction : \n",
            "UCSI :  81.91 %\n",
            "BC :  36.68 %\n"
          ],
          "name": "stdout"
        }
      ]
    }
  ]
}